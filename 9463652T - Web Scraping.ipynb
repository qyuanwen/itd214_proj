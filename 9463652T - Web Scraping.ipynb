{
 "cells": [
  {
   "cell_type": "code",
   "execution_count": 11,
   "id": "6628d223",
   "metadata": {},
   "outputs": [],
   "source": [
    "from selenium import webdriver\n",
    "from selenium.webdriver.chrome.service import Service\n",
    "from selenium.webdriver.common.by import By\n",
    "from selenium.webdriver.common.keys import Keys\n",
    "from selenium.webdriver.chrome.options import Options\n",
    "from webdriver_manager.chrome import ChromeDriverManager\n",
    "from selenium.webdriver.common.action_chains import ActionChains\n",
    "from datetime import datetime\n",
    "import pandas as pd\n",
    "import time\n"
   ]
  },
  {
   "cell_type": "code",
   "execution_count": 12,
   "id": "15ed7117",
   "metadata": {},
   "outputs": [],
   "source": [
    "options = Options()\n",
    "options.add_argument(\"--start-maximized\")\n",
    "options.add_argument(\"--disable-notifications\")\n",
    "\n",
    "# Path to your ChromeDriver\n",
    "chrome_driver_path = r'C:\\\\Users\\\\qiyua\\\\Downloads\\\\chromedriver-win64\\\\chromedriver-win64\\\\chromedriver.exe'\n",
    "\n",
    "# Initialize the Chrome driver\n",
    "service = Service(chrome_driver_path)\n",
    "driver = webdriver.Chrome(service=service, options=options)\n"
   ]
  },
  {
   "cell_type": "code",
   "execution_count": 13,
   "id": "cadbf0c8",
   "metadata": {},
   "outputs": [],
   "source": [
    "# Navigate to the login page\n",
    "driver.get(\"https://x.com/login\")\n",
    "\n",
    "# Wait for login elements to load\n",
    "time.sleep(5)\n",
    "\n",
    "# Enter your username and password\n",
    "username = driver.find_element(By.NAME, \"text\")\n",
    "username.send_keys(\"QiyuanWen2\")\n",
    "username.send_keys(Keys.RETURN)\n",
    "\n",
    "time.sleep(5)\n",
    "\n",
    "password = driver.find_element(By.NAME, \"password\")\n",
    "password.send_keys(\"Wenq0540\")\n",
    "password.send_keys(Keys.RETURN)\n",
    "\n",
    "time.sleep(10)  # Wait for login to complete\n"
   ]
  },
  {
   "cell_type": "code",
   "execution_count": 14,
   "id": "3348caa5",
   "metadata": {},
   "outputs": [],
   "source": [
    "# Initialize lists to store post text and timestamps\n",
    "posts = []\n",
    "timestamps = []\n",
    "\n",
    "# Define a function to extract posts and timestamps\n",
    "def extract_posts():\n",
    "    post_elements = driver.find_elements(By.CSS_SELECTOR, \"article\")\n",
    "    for post in post_elements:\n",
    "        try:\n",
    "            # Extract post text\n",
    "            text = post.find_element(By.CSS_SELECTOR, \"div[lang]\").text\n",
    "            \n",
    "            # Extract timestamp\n",
    "            timestamp = post.find_element(By.CSS_SELECTOR, \"time\").get_attribute(\"datetime\")\n",
    "            \n",
    "            posts.append(text)\n",
    "            timestamps.append(timestamp)\n",
    "        except Exception as e:\n",
    "            print(f\"Error extracting post: {e}\")\n",
    "            continue\n",
    "\n",
    "# Navigate to the search page\n",
    "search_query = \"singapore mrt train\"\n",
    "driver.get(f\"https://x.com/search?q=%23{search_query}&f=live\")\n",
    "\n",
    "time.sleep(5)  # Wait for search results to load\n",
    "\n",
    "# Extract posts and timestamps\n",
    "for _ in range(50):  # Increase the range to load more posts\n",
    "    extract_posts()\n",
    "    \n",
    "    # Scroll down to load more posts\n",
    "    driver.execute_script(\"window.scrollTo(0, document.body.scrollHeight);\")\n",
    "    time.sleep(5)\n",
    "\n",
    "# Save to CSV\n",
    "df = pd.DataFrame({\n",
    "    \"PostText\": posts,\n",
    "    \"Timestamp\": timestamps\n",
    "})\n",
    "df.to_csv(\"twitter_posts_with_timestamps_3.csv\", index=False)\n",
    "\n",
    "# Close the WebDriver\n",
    "driver.quit()\n"
   ]
  },
  {
   "cell_type": "code",
   "execution_count": null,
   "id": "0801788c",
   "metadata": {},
   "outputs": [],
   "source": []
  },
  {
   "cell_type": "code",
   "execution_count": null,
   "id": "8af8895e",
   "metadata": {},
   "outputs": [],
   "source": []
  },
  {
   "cell_type": "code",
   "execution_count": null,
   "id": "11cc233c",
   "metadata": {},
   "outputs": [],
   "source": []
  },
  {
   "cell_type": "code",
   "execution_count": null,
   "id": "60ea0210",
   "metadata": {},
   "outputs": [],
   "source": []
  },
  {
   "cell_type": "code",
   "execution_count": null,
   "id": "967cdec1",
   "metadata": {},
   "outputs": [],
   "source": []
  },
  {
   "cell_type": "code",
   "execution_count": null,
   "id": "37950482",
   "metadata": {},
   "outputs": [],
   "source": []
  }
 ],
 "metadata": {
  "kernelspec": {
   "display_name": "Python 3 (ipykernel)",
   "language": "python",
   "name": "python3"
  },
  "language_info": {
   "codemirror_mode": {
    "name": "ipython",
    "version": 3
   },
   "file_extension": ".py",
   "mimetype": "text/x-python",
   "name": "python",
   "nbconvert_exporter": "python",
   "pygments_lexer": "ipython3",
   "version": "3.9.13"
  }
 },
 "nbformat": 4,
 "nbformat_minor": 5
}
